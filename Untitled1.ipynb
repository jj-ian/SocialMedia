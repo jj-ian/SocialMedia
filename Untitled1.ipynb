{
 "cells": [
  {
   "cell_type": "code",
   "execution_count": 1,
   "metadata": {
    "collapsed": false
   },
   "outputs": [
    {
     "name": "stdout",
     "output_type": "stream",
     "text": [
      "hi\n"
     ]
    }
   ],
   "source": [
    "print(\"hi\")"
   ]
  },
  {
   "cell_type": "code",
   "execution_count": null,
   "metadata": {
    "collapsed": false
   },
   "outputs": [
    {
     "name": "stdout",
     "output_type": "stream",
     "text": [
      "hi\n",
      "/\n"
     ]
    },
    {
     "name": "stderr",
     "output_type": "stream",
     "text": [
      "----------------------------------------\n",
      "Exception happened during processing of request from ('127.0.0.1', 57120)\n",
      "Traceback (most recent call last):\n",
      "  File \"c:\\users\\julie\\appdata\\local\\programs\\python\\python36-32\\lib\\socketserver.py\", line 317, in _handle_request_noblock\n",
      "    self.process_request(request, client_address)\n",
      "  File \"c:\\users\\julie\\appdata\\local\\programs\\python\\python36-32\\lib\\socketserver.py\", line 348, in process_request\n",
      "    self.finish_request(request, client_address)\n",
      "  File \"c:\\users\\julie\\appdata\\local\\programs\\python\\python36-32\\lib\\socketserver.py\", line 361, in finish_request\n",
      "    self.RequestHandlerClass(request, client_address, self)\n",
      "  File \"c:\\users\\julie\\appdata\\local\\programs\\python\\python36-32\\lib\\socketserver.py\", line 696, in __init__\n",
      "    self.handle()\n",
      "  File \"c:\\users\\julie\\appdata\\local\\programs\\python\\python36-32\\lib\\http\\server.py\", line 418, in handle\n",
      "    self.handle_one_request()\n",
      "  File \"c:\\users\\julie\\appdata\\local\\programs\\python\\python36-32\\lib\\http\\server.py\", line 406, in handle_one_request\n",
      "    method()\n",
      "  File \"<ipython-input-18-9c2cc9dbb0f7>\", line 7, in do_GET\n",
      "    self.wfile.write('HTTP-1.0 200 Okay\\r\\n\\r\\nHere is your output for ')\n",
      "  File \"c:\\users\\julie\\appdata\\local\\programs\\python\\python36-32\\lib\\socketserver.py\", line 775, in write\n",
      "    self._sock.sendall(b)\n",
      "TypeError: a bytes-like object is required, not 'str'\n",
      "----------------------------------------\n"
     ]
    }
   ],
   "source": [
    "import http.server\n",
    "print(\"hi\")\n",
    "\n",
    "class SimpleRequestHandler(http.server.BaseHTTPRequestHandler):\n",
    "    def do_GET(self):\n",
    "        print(self.path)\n",
    "        self.wfile.write('HTTP-1.0 200 Okay\\r\\n\\r\\nHere is your output for ')\n",
    "\n",
    "def run(server_class=http.server.HTTPServer,\n",
    "    handler_class=SimpleRequestHandler):\n",
    "    server_address = ('', 8005)\n",
    "    httpd = server_class(server_address, handler_class)\n",
    "    httpd.serve_forever()\n",
    "\n",
    "run()"
   ]
  },
  {
   "cell_type": "code",
   "execution_count": 12,
   "metadata": {
    "collapsed": false
   },
   "outputs": [
    {
     "ename": "NameError",
     "evalue": "name 'tcpserver' is not defined",
     "output_type": "error",
     "traceback": [
      "\u001b[1;31m---------------------------------------------------------------------------\u001b[0m",
      "\u001b[1;31mNameError\u001b[0m                                 Traceback (most recent call last)",
      "\u001b[1;32m<ipython-input-12-8b5a372a4ce0>\u001b[0m in \u001b[0;36m<module>\u001b[1;34m()\u001b[0m\n\u001b[0;32m      6\u001b[0m \u001b[0mHandler\u001b[0m \u001b[1;33m=\u001b[0m \u001b[0mhttp\u001b[0m\u001b[1;33m.\u001b[0m\u001b[0mserver\u001b[0m\u001b[1;33m.\u001b[0m\u001b[0mSimpleHTTPRequestHandler\u001b[0m\u001b[1;33m\u001b[0m\u001b[0m\n\u001b[0;32m      7\u001b[0m \u001b[1;33m\u001b[0m\u001b[0m\n\u001b[1;32m----> 8\u001b[1;33m \u001b[0mhttpd\u001b[0m \u001b[1;33m=\u001b[0m \u001b[0mtcpserver\u001b[0m\u001b[1;33m.\u001b[0m\u001b[0mTCPServer\u001b[0m\u001b[1;33m(\u001b[0m\u001b[1;33m(\u001b[0m\u001b[1;34m\"\"\u001b[0m\u001b[1;33m,\u001b[0m \u001b[0mPORT\u001b[0m\u001b[1;33m)\u001b[0m\u001b[1;33m,\u001b[0m \u001b[0mHandler\u001b[0m\u001b[1;33m)\u001b[0m\u001b[1;33m\u001b[0m\u001b[0m\n\u001b[0m\u001b[0;32m      9\u001b[0m \u001b[1;33m\u001b[0m\u001b[0m\n\u001b[0;32m     10\u001b[0m \u001b[0mprint\u001b[0m\u001b[1;33m(\u001b[0m\u001b[1;34m\"serving at port\"\u001b[0m\u001b[1;33m,\u001b[0m \u001b[0mPORT\u001b[0m\u001b[1;33m)\u001b[0m\u001b[1;33m\u001b[0m\u001b[0m\n",
      "\u001b[1;31mNameError\u001b[0m: name 'tcpserver' is not defined"
     ]
    }
   ],
   "source": [
    "import http.server\n",
    "#import SocketServer\n",
    "\n",
    "PORT = 8002\n",
    "\n",
    "Handler = http.server.SimpleHTTPRequestHandler\n",
    "\n",
    "httpd = tcpserver.TCPServer((\"\", PORT), Handler)\n",
    "\n",
    "print(\"serving at port\", PORT)\n",
    "httpd.serve_forever()"
   ]
  },
  {
   "cell_type": "code",
   "execution_count": 17,
   "metadata": {
    "collapsed": false
   },
   "outputs": [],
   "source": [
    "import http.server\n",
    "def run(server_class=http.server.HTTPServer, handler_class=http.server.BaseHTTPRequestHandler):\n",
    "    server_address = ('', 8003)\n",
    "    httpd = server_class(server_address, handler_class)\n",
    "    httpd.serve_forever()"
   ]
  },
  {
   "cell_type": "code",
   "execution_count": null,
   "metadata": {
    "collapsed": true
   },
   "outputs": [],
   "source": []
  }
 ],
 "metadata": {
  "kernelspec": {
   "display_name": "Python 3",
   "language": "python",
   "name": "python3"
  },
  "language_info": {
   "codemirror_mode": {
    "name": "ipython",
    "version": 3
   },
   "file_extension": ".py",
   "mimetype": "text/x-python",
   "name": "python",
   "nbconvert_exporter": "python",
   "pygments_lexer": "ipython3",
   "version": "3.6.0"
  }
 },
 "nbformat": 4,
 "nbformat_minor": 2
}
